{
  "nbformat": 4,
  "nbformat_minor": 0,
  "metadata": {
    "colab": {
      "name": "DS303_Project.ipynb",
      "provenance": [],
      "collapsed_sections": []
    },
    "kernelspec": {
      "name": "python3",
      "display_name": "Python 3"
    },
    "language_info": {
      "name": "python"
    }
  },
  "cells": [
    {
      "cell_type": "code",
      "metadata": {
        "colab": {
          "base_uri": "https://localhost:8080/"
        },
        "id": "ZPRf6SkUlvMo",
        "outputId": "c015376a-e931-487d-f906-d851441038b4"
      },
      "source": [
        "!apt-get install -y -qq software-properties-common python-software-properties module-init-tools\n",
        "!add-apt-repository -y ppa:alessandro-strada/ppa 2>&1 > /dev/null\n",
        "!apt-get update -qq 2>&1 > /dev/null\n",
        "!apt-get -y install -qq google-drive-ocamlfuse fuse\n",
        "from google.colab import auth\n",
        "auth.authenticate_user()\n",
        "from oauth2client.client import GoogleCredentials\n",
        "creds = GoogleCredentials.get_application_default()\n",
        "import getpass\n",
        "!google-drive-ocamlfuse -headless -id={creds.client_id} -secret={creds.client_secret} < /dev/null 2>&1 | grep URL\n",
        "vcode = getpass.getpass()\n",
        "!echo {vcode} | google-drive-ocamlfuse -headless -id={creds.client_id} -secret={creds.client_secret}"
      ],
      "execution_count": null,
      "outputs": [
        {
          "output_type": "stream",
          "text": [
            "E: Package 'python-software-properties' has no installation candidate\n",
            "Selecting previously unselected package google-drive-ocamlfuse.\n",
            "(Reading database ... 160690 files and directories currently installed.)\n",
            "Preparing to unpack .../google-drive-ocamlfuse_0.7.26-0ubuntu1~ubuntu18.04.1_amd64.deb ...\n",
            "Unpacking google-drive-ocamlfuse (0.7.26-0ubuntu1~ubuntu18.04.1) ...\n",
            "Setting up google-drive-ocamlfuse (0.7.26-0ubuntu1~ubuntu18.04.1) ...\n",
            "Processing triggers for man-db (2.8.3-2ubuntu0.1) ...\n",
            "Please, open the following URL in a web browser: https://accounts.google.com/o/oauth2/auth?client_id=32555940559.apps.googleusercontent.com&redirect_uri=urn%3Aietf%3Awg%3Aoauth%3A2.0%3Aoob&scope=https%3A%2F%2Fwww.googleapis.com%2Fauth%2Fdrive&response_type=code&access_type=offline&approval_prompt=force\n",
            "··········\n",
            "Please, open the following URL in a web browser: https://accounts.google.com/o/oauth2/auth?client_id=32555940559.apps.googleusercontent.com&redirect_uri=urn%3Aietf%3Awg%3Aoauth%3A2.0%3Aoob&scope=https%3A%2F%2Fwww.googleapis.com%2Fauth%2Fdrive&response_type=code&access_type=offline&approval_prompt=force\n",
            "Please enter the verification code: Access token retrieved correctly.\n"
          ],
          "name": "stdout"
        }
      ]
    },
    {
      "cell_type": "code",
      "metadata": {
        "colab": {
          "base_uri": "https://localhost:8080/"
        },
        "id": "LqNuZZOhl3PA",
        "outputId": "af9c74ca-d4ca-45aa-e05c-645975446c68"
      },
      "source": [
        "#Mounting google drive\n",
        "from google.colab import drive\n",
        "drive.mount('/content/drive')"
      ],
      "execution_count": null,
      "outputs": [
        {
          "output_type": "stream",
          "text": [
            "Mounted at /content/drive\n"
          ],
          "name": "stdout"
        }
      ]
    },
    {
      "cell_type": "code",
      "metadata": {
        "colab": {
          "base_uri": "https://localhost:8080/"
        },
        "id": "UBUGjRJLl6xH",
        "outputId": "11f32834-3b5b-4d30-b1a4-46d9306329e4"
      },
      "source": [
        "#Launching dataset\n",
        "import os\n",
        "os.chdir(\"/content/drive/My Drive/DS303_Proj\")\n",
        "Dataset = 'Dataset'\n",
        "Data_dir = os.listdir(Dataset)\n",
        "print(Data_dir)"
      ],
      "execution_count": null,
      "outputs": [
        {
          "output_type": "stream",
          "text": [
            "['without_mask', 'with_mask']\n"
          ],
          "name": "stdout"
        }
      ]
    },
    {
      "cell_type": "code",
      "metadata": {
        "colab": {
          "base_uri": "https://localhost:8080/"
        },
        "id": "6nTMt34KmA3Q",
        "outputId": "8f42666b-4774-42e4-ecce-7ebcd0a27c5b"
      },
      "source": [
        "!pwd"
      ],
      "execution_count": null,
      "outputs": [
        {
          "output_type": "stream",
          "text": [
            "/content/drive/My Drive/DS303_Proj\n"
          ],
          "name": "stdout"
        }
      ]
    },
    {
      "cell_type": "code",
      "metadata": {
        "id": "2gV0KRimmLbi"
      },
      "source": [
        "import cv2\n",
        "import numpy as np\n",
        "from tensorflow.keras.utils import to_categorical\n",
        "from sklearn.preprocessing import LabelBinarizer\n",
        "from sklearn.model_selection import train_test_split"
      ],
      "execution_count": null,
      "outputs": []
    },
    {
      "cell_type": "code",
      "metadata": {
        "id": "Xyeh-zRXmMLo"
      },
      "source": [
        "img_rows, img_cols = 112, 112\n",
        "\n",
        "images = []\n",
        "labels = []\n",
        "\n",
        "for category in Data_dir:\n",
        "  folder_path = os.path.join(Dataset, category)\n",
        "  for img in os.listdir(folder_path):\n",
        "    img_path = os.path.join(folder_path, img)\n",
        "    img = cv2.imread(img_path)\n",
        "\n",
        "    try:\n",
        "      #Converting the image into gray scale \n",
        "      grayscale_img = cv2.cvtColor(img, cv2.COLOR_BGR2GRAY)\n",
        "\n",
        "      #resizing grayscaled image into size 56x56 to keep images consistent\n",
        "      resized_img = cv2.resize(grayscale_img,(img_rows, img_cols))\n",
        "      images.append(resized_img)\n",
        "      labels.append(category)\n",
        "      \n",
        "    except exception as e:\n",
        "      print('Exception:', e)\n",
        "\n",
        "images=np.array(images)/255.0\n",
        "images=np.reshape(images,(images.shape[0],img_rows,img_cols,1))\n",
        "\n",
        "#Perform one hot encoding on the labels since the labels are in textual form\n",
        "lb = LabelBinarizer();\n",
        "labels = lb.fit_transform(labels)\n",
        "labels = to_categorical(labels)\n",
        "labels = np.array(labels)\n",
        "\n",
        "(train_x, test_X, train_y, test_y) = train_test_split(images, labels, test_size=0.25, random_state=0)"
      ],
      "execution_count": null,
      "outputs": []
    },
    {
      "cell_type": "code",
      "metadata": {
        "colab": {
          "base_uri": "https://localhost:8080/"
        },
        "id": "t81oJlW-mgSJ",
        "outputId": "41c3e992-0fa0-4055-8c12-f81fa0290c52"
      },
      "source": [
        "#import necessary Keras Libraries\n",
        "from keras.models import Sequential\n",
        "from keras.layers import Dense,Activation,Flatten,Dropout\n",
        "from keras.layers import Conv2D,MaxPooling2D\n",
        "\n",
        "#Define Model Parameters\n",
        "num_classes=2\n",
        "batch_size=32\n",
        "\n",
        "#Build CNN model using sequential API\n",
        "model=Sequential()\n",
        "\n",
        "#First Layer group containing Convolution, Relu and MaxPooling Layers\n",
        "model.add(Conv2D(64,(3,3),input_shape=(img_rows, img_cols, 1)))\n",
        "model.add(Activation('relu'))\n",
        "model.add(MaxPooling2D(pool_size=(2,2)))\n",
        "\n",
        "#Second Layer group containing Convolution, Relu and MaxPooling Layers\n",
        "model.add(Conv2D(128,(3,3)))\n",
        "model.add(Activation('relu'))\n",
        "model.add(MaxPooling2D(pool_size=(2,2)))\n",
        "\n",
        "#Third Layer group containing Convolution, Relu and MaxPooling Layers\n",
        "model.add(Conv2D(256,(3,3)))\n",
        "model.add(Activation('relu'))\n",
        "model.add(MaxPooling2D(pool_size=(2,2)))\n",
        "\n",
        "#Flatten and Dropout Layer to stack the output convolutions above as well as cater overfitting\n",
        "model.add(Flatten())\n",
        "model.add(Dropout(0.5))\n",
        "\n",
        "#Softmax Classifier\n",
        "model.add(Dense(64,activation='relu'))\n",
        "model.add(Dense(num_classes,activation='softmax'))\n",
        "\n",
        "print(model.summary())"
      ],
      "execution_count": null,
      "outputs": [
        {
          "output_type": "stream",
          "text": [
            "Model: \"sequential\"\n",
            "_________________________________________________________________\n",
            "Layer (type)                 Output Shape              Param #   \n",
            "=================================================================\n",
            "conv2d (Conv2D)              (None, 110, 110, 64)      640       \n",
            "_________________________________________________________________\n",
            "activation (Activation)      (None, 110, 110, 64)      0         \n",
            "_________________________________________________________________\n",
            "max_pooling2d (MaxPooling2D) (None, 55, 55, 64)        0         \n",
            "_________________________________________________________________\n",
            "conv2d_1 (Conv2D)            (None, 53, 53, 128)       73856     \n",
            "_________________________________________________________________\n",
            "activation_1 (Activation)    (None, 53, 53, 128)       0         \n",
            "_________________________________________________________________\n",
            "max_pooling2d_1 (MaxPooling2 (None, 26, 26, 128)       0         \n",
            "_________________________________________________________________\n",
            "conv2d_2 (Conv2D)            (None, 24, 24, 256)       295168    \n",
            "_________________________________________________________________\n",
            "activation_2 (Activation)    (None, 24, 24, 256)       0         \n",
            "_________________________________________________________________\n",
            "max_pooling2d_2 (MaxPooling2 (None, 12, 12, 256)       0         \n",
            "_________________________________________________________________\n",
            "flatten (Flatten)            (None, 36864)             0         \n",
            "_________________________________________________________________\n",
            "dropout (Dropout)            (None, 36864)             0         \n",
            "_________________________________________________________________\n",
            "dense (Dense)                (None, 64)                2359360   \n",
            "_________________________________________________________________\n",
            "dense_1 (Dense)              (None, 2)                 130       \n",
            "=================================================================\n",
            "Total params: 2,729,154\n",
            "Trainable params: 2,729,154\n",
            "Non-trainable params: 0\n",
            "_________________________________________________________________\n",
            "None\n"
          ],
          "name": "stdout"
        }
      ]
    },
    {
      "cell_type": "code",
      "metadata": {
        "colab": {
          "base_uri": "https://localhost:8080/"
        },
        "id": "CxJjSOfumijo",
        "outputId": "fe557108-ab21-4ec3-f24d-70f92fd1e295"
      },
      "source": [
        "#Train the model\n",
        "from keras.optimizers import Adam\n",
        "\n",
        "epochs=50\n",
        "\n",
        "model.compile(loss = 'categorical_crossentropy',\n",
        "              optimizer = Adam(lr=0.001),\n",
        "              metrics=['accuracy'])\n",
        "\n",
        "fitted_model=model.fit(train_x,train_y,epochs=epochs,validation_split=0.25)"
      ],
      "execution_count": null,
      "outputs": [
        {
          "output_type": "stream",
          "text": [
            "Epoch 1/50\n",
            "25/25 [==============================] - 46s 2s/step - loss: 0.8219 - accuracy: 0.4921 - val_loss: 0.6794 - val_accuracy: 0.5385\n",
            "Epoch 2/50\n",
            "25/25 [==============================] - 45s 2s/step - loss: 0.6880 - accuracy: 0.5083 - val_loss: 0.6313 - val_accuracy: 0.5923\n",
            "Epoch 3/50\n",
            "25/25 [==============================] - 45s 2s/step - loss: 0.6118 - accuracy: 0.6711 - val_loss: 0.4907 - val_accuracy: 0.7538\n",
            "Epoch 4/50\n",
            "25/25 [==============================] - 45s 2s/step - loss: 0.4733 - accuracy: 0.7713 - val_loss: 0.3677 - val_accuracy: 0.8538\n",
            "Epoch 5/50\n",
            "25/25 [==============================] - 45s 2s/step - loss: 0.2774 - accuracy: 0.8837 - val_loss: 0.3371 - val_accuracy: 0.8692\n",
            "Epoch 6/50\n",
            "25/25 [==============================] - 45s 2s/step - loss: 0.2144 - accuracy: 0.9035 - val_loss: 0.2673 - val_accuracy: 0.8923\n",
            "Epoch 7/50\n",
            "25/25 [==============================] - 45s 2s/step - loss: 0.1171 - accuracy: 0.9641 - val_loss: 0.3231 - val_accuracy: 0.9038\n",
            "Epoch 8/50\n",
            "25/25 [==============================] - 45s 2s/step - loss: 0.1872 - accuracy: 0.9275 - val_loss: 0.2272 - val_accuracy: 0.9231\n",
            "Epoch 9/50\n",
            "25/25 [==============================] - 45s 2s/step - loss: 0.0903 - accuracy: 0.9725 - val_loss: 0.2435 - val_accuracy: 0.9115\n",
            "Epoch 10/50\n",
            "25/25 [==============================] - 45s 2s/step - loss: 0.0803 - accuracy: 0.9771 - val_loss: 0.2760 - val_accuracy: 0.9192\n",
            "Epoch 11/50\n",
            "25/25 [==============================] - 45s 2s/step - loss: 0.0989 - accuracy: 0.9647 - val_loss: 0.2589 - val_accuracy: 0.8962\n",
            "Epoch 12/50\n",
            "25/25 [==============================] - 45s 2s/step - loss: 0.0651 - accuracy: 0.9775 - val_loss: 0.3532 - val_accuracy: 0.9038\n",
            "Epoch 13/50\n",
            "25/25 [==============================] - 45s 2s/step - loss: 0.1350 - accuracy: 0.9436 - val_loss: 0.1952 - val_accuracy: 0.9269\n",
            "Epoch 14/50\n",
            "25/25 [==============================] - 45s 2s/step - loss: 0.0825 - accuracy: 0.9774 - val_loss: 0.2608 - val_accuracy: 0.9308\n",
            "Epoch 15/50\n",
            "25/25 [==============================] - 45s 2s/step - loss: 0.0521 - accuracy: 0.9801 - val_loss: 0.2076 - val_accuracy: 0.9308\n",
            "Epoch 16/50\n",
            "25/25 [==============================] - 45s 2s/step - loss: 0.0543 - accuracy: 0.9774 - val_loss: 0.2647 - val_accuracy: 0.9308\n",
            "Epoch 17/50\n",
            "25/25 [==============================] - 45s 2s/step - loss: 0.0621 - accuracy: 0.9687 - val_loss: 0.2981 - val_accuracy: 0.9154\n",
            "Epoch 18/50\n",
            "25/25 [==============================] - 45s 2s/step - loss: 0.0403 - accuracy: 0.9861 - val_loss: 0.2374 - val_accuracy: 0.9385\n",
            "Epoch 19/50\n",
            "25/25 [==============================] - 46s 2s/step - loss: 0.0261 - accuracy: 0.9925 - val_loss: 0.2330 - val_accuracy: 0.9346\n",
            "Epoch 20/50\n",
            "25/25 [==============================] - 48s 2s/step - loss: 0.0145 - accuracy: 0.9963 - val_loss: 0.2198 - val_accuracy: 0.9385\n",
            "Epoch 21/50\n",
            "25/25 [==============================] - 47s 2s/step - loss: 0.0112 - accuracy: 0.9970 - val_loss: 0.2296 - val_accuracy: 0.9346\n",
            "Epoch 22/50\n",
            "25/25 [==============================] - 45s 2s/step - loss: 0.0559 - accuracy: 0.9824 - val_loss: 0.2293 - val_accuracy: 0.9192\n",
            "Epoch 23/50\n",
            "25/25 [==============================] - 44s 2s/step - loss: 0.0384 - accuracy: 0.9908 - val_loss: 0.2330 - val_accuracy: 0.9346\n",
            "Epoch 24/50\n",
            "25/25 [==============================] - 44s 2s/step - loss: 0.0155 - accuracy: 0.9977 - val_loss: 0.2222 - val_accuracy: 0.9308\n",
            "Epoch 25/50\n",
            "25/25 [==============================] - 44s 2s/step - loss: 0.0071 - accuracy: 0.9997 - val_loss: 0.2727 - val_accuracy: 0.9385\n",
            "Epoch 26/50\n",
            "25/25 [==============================] - 44s 2s/step - loss: 0.0060 - accuracy: 0.9985 - val_loss: 0.2569 - val_accuracy: 0.9462\n",
            "Epoch 27/50\n",
            "25/25 [==============================] - 45s 2s/step - loss: 0.0058 - accuracy: 0.9978 - val_loss: 0.2970 - val_accuracy: 0.9269\n",
            "Epoch 28/50\n",
            "25/25 [==============================] - 45s 2s/step - loss: 0.0065 - accuracy: 0.9960 - val_loss: 0.3039 - val_accuracy: 0.9308\n",
            "Epoch 29/50\n",
            "25/25 [==============================] - 47s 2s/step - loss: 0.0027 - accuracy: 0.9995 - val_loss: 0.3111 - val_accuracy: 0.9269\n",
            "Epoch 30/50\n",
            "25/25 [==============================] - 46s 2s/step - loss: 0.0036 - accuracy: 0.9976 - val_loss: 0.3602 - val_accuracy: 0.9269\n",
            "Epoch 31/50\n",
            "25/25 [==============================] - 46s 2s/step - loss: 0.0023 - accuracy: 0.9992 - val_loss: 0.3227 - val_accuracy: 0.9308\n",
            "Epoch 32/50\n",
            "25/25 [==============================] - 47s 2s/step - loss: 0.0044 - accuracy: 0.9954 - val_loss: 0.2983 - val_accuracy: 0.9423\n",
            "Epoch 33/50\n",
            "25/25 [==============================] - 47s 2s/step - loss: 0.0102 - accuracy: 0.9960 - val_loss: 0.4369 - val_accuracy: 0.9231\n",
            "Epoch 34/50\n",
            "25/25 [==============================] - 44s 2s/step - loss: 0.0111 - accuracy: 0.9958 - val_loss: 0.3745 - val_accuracy: 0.9385\n",
            "Epoch 35/50\n",
            "25/25 [==============================] - 44s 2s/step - loss: 0.0050 - accuracy: 0.9985 - val_loss: 0.3010 - val_accuracy: 0.9423\n",
            "Epoch 36/50\n",
            "25/25 [==============================] - 45s 2s/step - loss: 0.0063 - accuracy: 0.9970 - val_loss: 0.2763 - val_accuracy: 0.9385\n",
            "Epoch 37/50\n",
            "25/25 [==============================] - 44s 2s/step - loss: 0.0130 - accuracy: 0.9945 - val_loss: 0.2708 - val_accuracy: 0.9269\n",
            "Epoch 38/50\n",
            "25/25 [==============================] - 44s 2s/step - loss: 0.0114 - accuracy: 0.9930 - val_loss: 0.5385 - val_accuracy: 0.9269\n",
            "Epoch 39/50\n",
            "25/25 [==============================] - 44s 2s/step - loss: 0.0762 - accuracy: 0.9830 - val_loss: 0.4331 - val_accuracy: 0.8769\n",
            "Epoch 40/50\n",
            "25/25 [==============================] - 44s 2s/step - loss: 0.0838 - accuracy: 0.9600 - val_loss: 0.1926 - val_accuracy: 0.9269\n",
            "Epoch 41/50\n",
            "25/25 [==============================] - 44s 2s/step - loss: 0.0104 - accuracy: 0.9986 - val_loss: 0.2670 - val_accuracy: 0.9385\n",
            "Epoch 42/50\n",
            "25/25 [==============================] - 44s 2s/step - loss: 0.0075 - accuracy: 0.9986 - val_loss: 0.2704 - val_accuracy: 0.9308\n",
            "Epoch 43/50\n",
            "25/25 [==============================] - 44s 2s/step - loss: 0.0064 - accuracy: 0.9957 - val_loss: 0.2320 - val_accuracy: 0.9385\n",
            "Epoch 44/50\n",
            "25/25 [==============================] - 44s 2s/step - loss: 0.0035 - accuracy: 0.9976 - val_loss: 0.2528 - val_accuracy: 0.9308\n",
            "Epoch 45/50\n",
            "25/25 [==============================] - 44s 2s/step - loss: 0.0027 - accuracy: 0.9979 - val_loss: 0.2759 - val_accuracy: 0.9346\n",
            "Epoch 46/50\n",
            "25/25 [==============================] - 44s 2s/step - loss: 0.0011 - accuracy: 0.9997 - val_loss: 0.2899 - val_accuracy: 0.9385\n",
            "Epoch 47/50\n",
            "25/25 [==============================] - 45s 2s/step - loss: 0.0011 - accuracy: 0.9997 - val_loss: 0.2708 - val_accuracy: 0.9462\n",
            "Epoch 48/50\n",
            "25/25 [==============================] - 44s 2s/step - loss: 0.0019 - accuracy: 0.9995 - val_loss: 0.2907 - val_accuracy: 0.9385\n",
            "Epoch 49/50\n",
            "25/25 [==============================] - 45s 2s/step - loss: 0.0037 - accuracy: 0.9976 - val_loss: 0.3090 - val_accuracy: 0.9462\n",
            "Epoch 50/50\n",
            "25/25 [==============================] - 44s 2s/step - loss: 0.0056 - accuracy: 0.9975 - val_loss: 0.4309 - val_accuracy: 0.9346\n"
          ],
          "name": "stdout"
        }
      ]
    },
    {
      "cell_type": "code",
      "metadata": {
        "colab": {
          "base_uri": "https://localhost:8080/",
          "height": 541
        },
        "id": "hdEn6nh0mlaI",
        "outputId": "d05498b7-2c86-4dd8-dd56-ed21fba995ed"
      },
      "source": [
        "from matplotlib import pyplot as plt\n",
        "\n",
        "#Plot Training and Validation Loss\n",
        "plt.plot(fitted_model.history['loss'],'r',label='training loss')\n",
        "plt.plot(fitted_model.history['val_loss'],label='validation loss')\n",
        "plt.ylabel('Loss value')\n",
        "plt.xlabel('Number of epochs')\n",
        "plt.legend()\n",
        "plt.show()\n",
        "\n",
        "#Plot Training and Validation Loss\n",
        "plt.plot(fitted_model.history['accuracy'],'r',label='training accuracy')\n",
        "plt.plot(fitted_model.history['val_accuracy'],label='validation accuracy')\n",
        "plt.ylabel('Accuracy value')\n",
        "plt.xlabel('Number of epochs')\n",
        "plt.legend()\n",
        "plt.show()\n"
      ],
      "execution_count": null,
      "outputs": [
        {
          "output_type": "display_data",
          "data": {
            "image/png": "[encoded data removed]",
            "text/plain": [
              "<Figure size 432x288 with 1 Axes>"
            ]
          },
          "metadata": {
            "tags": [],
            "needs_background": "light"
          }
        },
        {
          "output_type": "display_data",
          "data": {
            "image/png": "[encoded data removed]",
            "text/plain": [
              "<Figure size 432x288 with 1 Axes>"
            ]
          },
          "metadata": {
            "tags": [],
            "needs_background": "light"
          }
        }
      ]
    },
    {
      "cell_type": "code",
      "metadata": {
        "id": "hvm9moEaz0-Z"
      },
      "source": [
        "#Save the model\n",
        "model.save('ds_project_SDD_64_128_256_3layer_3x3kernel.h5')"
      ],
      "execution_count": null,
      "outputs": []
    }
  ]
}