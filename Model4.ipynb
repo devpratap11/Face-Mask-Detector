{
  "nbformat": 4,
  "nbformat_minor": 0,
  "metadata": {
    "colab": {
      "name": "DS303_Dev.ipynb",
      "provenance": []
    },
    "kernelspec": {
      "name": "python3",
      "display_name": "Python 3"
    },
    "language_info": {
      "name": "python"
    }
  },
  "cells": [
    {
      "cell_type": "code",
      "metadata": {
        "colab": {
          "base_uri": "https://localhost:8080/"
        },
        "id": "qlBn_qMNxtgO",
        "outputId": "b7dadc72-6020-468b-aa3e-3d940a202924"
      },
      "source": [
        "!apt-get install -y -qq software-properties-common python-software-properties module-init-tools\n",
        "!add-apt-repository -y ppa:alessandro-strada/ppa 2>&1 > /dev/null\n",
        "!apt-get update -qq 2>&1 > /dev/null\n",
        "!apt-get -y install -qq google-drive-ocamlfuse fuse\n",
        "from google.colab import auth\n",
        "auth.authenticate_user()\n",
        "from oauth2client.client import GoogleCredentials\n",
        "creds = GoogleCredentials.get_application_default()\n",
        "import getpass\n",
        "!google-drive-ocamlfuse -headless -id={creds.client_id} -secret={creds.client_secret} < /dev/null 2>&1 | grep URL\n",
        "vcode = getpass.getpass()\n",
        "!echo {vcode} | google-drive-ocamlfuse -headless -id={creds.client_id} -secret={creds.client_secret}"
      ],
      "execution_count": 1,
      "outputs": [
        {
          "output_type": "stream",
          "text": [
            "E: Package 'python-software-properties' has no installation candidate\n",
            "Please, open the following URL in a web browser: https://accounts.google.com/o/oauth2/auth?client_id=32555940559.apps.googleusercontent.com&redirect_uri=urn%3Aietf%3Awg%3Aoauth%3A2.0%3Aoob&scope=https%3A%2F%2Fwww.googleapis.com%2Fauth%2Fdrive&response_type=code&access_type=offline&approval_prompt=force\n",
            "··········\n",
            "Please, open the following URL in a web browser: https://accounts.google.com/o/oauth2/auth?client_id=32555940559.apps.googleusercontent.com&redirect_uri=urn%3Aietf%3Awg%3Aoauth%3A2.0%3Aoob&scope=https%3A%2F%2Fwww.googleapis.com%2Fauth%2Fdrive&response_type=code&access_type=offline&approval_prompt=force\n",
            "Please enter the verification code: Access token retrieved correctly.\n"
          ],
          "name": "stdout"
        }
      ]
    },
    {
      "cell_type": "code",
      "metadata": {
        "colab": {
          "base_uri": "https://localhost:8080/"
        },
        "id": "735KvDUJyGVd",
        "outputId": "0eb64c3e-2735-4b2f-adc4-9dd0470366d2"
      },
      "source": [
        "#Mounting google drive\n",
        "from google.colab import drive\n",
        "drive.mount('/content/drive')"
      ],
      "execution_count": 2,
      "outputs": [
        {
          "output_type": "stream",
          "text": [
            "Mounted at /content/drive\n"
          ],
          "name": "stdout"
        }
      ]
    },
    {
      "cell_type": "code",
      "metadata": {
        "colab": {
          "base_uri": "https://localhost:8080/"
        },
        "id": "uMAB0xLPyLKb",
        "outputId": "cadb9a13-8782-4f42-ee61-1b97fa14d02a"
      },
      "source": [
        "#Launching dataset\n",
        "import os\n",
        "os.chdir(\"/content/drive/My Drive/DS303_Dev\")\n",
        "Dataset = 'Dataset'\n",
        "Data_dir = os.listdir(Dataset)\n",
        "print(Data_dir)"
      ],
      "execution_count": 4,
      "outputs": [
        {
          "output_type": "stream",
          "text": [
            "['without_mask', 'with_mask']\n"
          ],
          "name": "stdout"
        }
      ]
    },
    {
      "cell_type": "code",
      "metadata": {
        "colab": {
          "base_uri": "https://localhost:8080/"
        },
        "id": "PJuPkl7syOC6",
        "outputId": "f82f3d0e-24c9-4c31-b6e4-e0dbec08cb7b"
      },
      "source": [
        "!pwd"
      ],
      "execution_count": 5,
      "outputs": [
        {
          "output_type": "stream",
          "text": [
            "/content/drive/My Drive/DS303_Dev\n"
          ],
          "name": "stdout"
        }
      ]
    },
    {
      "cell_type": "code",
      "metadata": {
        "id": "znTw9EQpyROK"
      },
      "source": [
        "#Checking sample data\n",
        "# import PIL\n",
        "# import PIL.Image\n",
        "\n",
        "# image_path = \"/content/drive/My Drive/DS project mask/Dataset/with_mask/0-with-mask.jpg\"\n",
        "# PIL.Image.open(str(image_path))"
      ],
      "execution_count": 6,
      "outputs": []
    },
    {
      "cell_type": "code",
      "metadata": {
        "id": "dTgIMMc5yVIq"
      },
      "source": [
        "import cv2\n",
        "import numpy as np\n",
        "from tensorflow.keras.utils import to_categorical\n",
        "from sklearn.preprocessing import LabelBinarizer\n",
        "from sklearn.model_selection import train_test_split"
      ],
      "execution_count": 7,
      "outputs": []
    },
    {
      "cell_type": "code",
      "metadata": {
        "id": "OzeTdRGiyXPq"
      },
      "source": [
        "img_rows, img_cols = 112, 112\n",
        "\n",
        "images = []\n",
        "labels = []\n",
        "\n",
        "for category in Data_dir:\n",
        "  folder_path = os.path.join(Dataset, category)\n",
        "  for img in os.listdir(folder_path):\n",
        "    img_path = os.path.join(folder_path, img)\n",
        "    img = cv2.imread(img_path)\n",
        "\n",
        "    try:\n",
        "      #Converting the image into gray scale \n",
        "      grayscale_img = cv2.cvtColor(img, cv2.COLOR_BGR2GRAY)\n",
        "\n",
        "      #resizing grayscaled image into size 56x56 to keep images consistent\n",
        "      resized_img = cv2.resize(grayscale_img,(img_rows, img_cols))\n",
        "      images.append(resized_img)\n",
        "      labels.append(category)\n",
        "      \n",
        "    except exception as e:\n",
        "      print('Exception:', e)\n",
        "\n",
        "images=np.array(images)/255.0\n",
        "images=np.reshape(images,(images.shape[0],img_rows,img_cols,1))\n",
        "\n",
        "#Perform one hot encoding on the labels since the labels are in textual form\n",
        "lb = LabelBinarizer();\n",
        "labels = lb.fit_transform(labels)\n",
        "labels = to_categorical(labels)\n",
        "labels = np.array(labels)\n",
        "\n",
        "(train_x, test_X, train_y, test_y) = train_test_split(images, labels, test_size=0.25, random_state=0)"
      ],
      "execution_count": 8,
      "outputs": []
    },
    {
      "cell_type": "code",
      "metadata": {
        "colab": {
          "base_uri": "https://localhost:8080/"
        },
        "id": "_GVA0gHxybAy",
        "outputId": "3f522793-b599-4722-aa3c-6f22beb289de"
      },
      "source": [
        "#import necessary Keras Libraries\n",
        "from keras.models import Sequential\n",
        "from keras.layers import Dense,Activation,Flatten,Dropout\n",
        "from keras.layers import Conv2D,MaxPooling2D\n",
        "\n",
        "#Define Model Parameters\n",
        "num_classes=2\n",
        "batch_size=32\n",
        "\n",
        "#Build CNN model using sequential API\n",
        "model=Sequential()\n",
        "\n",
        "#First Layer group containing Convolution, Relu and MaxPooling Layers\n",
        "model.add(Conv2D(64,(5,5),input_shape=(img_rows, img_cols, 1)))\n",
        "model.add(Activation('relu'))\n",
        "model.add(MaxPooling2D(pool_size=(2,2)))\n",
        "\n",
        "#Second Layer group containing Convolution, Relu and MaxPooling Layers\n",
        "model.add(Conv2D(128,(5,5)))\n",
        "model.add(Activation('relu'))\n",
        "model.add(MaxPooling2D(pool_size=(2,2)))\n",
        "\n",
        "#Third Layer group containing Convolution, Relu and MaxPooling Layers\n",
        "model.add(Conv2D(256,(5,5)))\n",
        "model.add(Activation('relu'))\n",
        "model.add(MaxPooling2D(pool_size=(2,2)))\n",
        "\n",
        "#Flatten and Dropout Layer to stack the output convolutions above as well as cater overfitting\n",
        "model.add(Flatten())\n",
        "model.add(Dropout(0.5))\n",
        "\n",
        "#Softmax Classifier\n",
        "model.add(Dense(64,activation='relu'))\n",
        "model.add(Dense(num_classes,activation='softmax'))\n",
        "\n",
        "print(model.summary())"
      ],
      "execution_count": 9,
      "outputs": [
        {
          "output_type": "stream",
          "text": [
            "Model: \"sequential\"\n",
            "_________________________________________________________________\n",
            "Layer (type)                 Output Shape              Param #   \n",
            "=================================================================\n",
            "conv2d (Conv2D)              (None, 108, 108, 64)      1664      \n",
            "_________________________________________________________________\n",
            "activation (Activation)      (None, 108, 108, 64)      0         \n",
            "_________________________________________________________________\n",
            "max_pooling2d (MaxPooling2D) (None, 54, 54, 64)        0         \n",
            "_________________________________________________________________\n",
            "conv2d_1 (Conv2D)            (None, 50, 50, 128)       204928    \n",
            "_________________________________________________________________\n",
            "activation_1 (Activation)    (None, 50, 50, 128)       0         \n",
            "_________________________________________________________________\n",
            "max_pooling2d_1 (MaxPooling2 (None, 25, 25, 128)       0         \n",
            "_________________________________________________________________\n",
            "conv2d_2 (Conv2D)            (None, 21, 21, 256)       819456    \n",
            "_________________________________________________________________\n",
            "activation_2 (Activation)    (None, 21, 21, 256)       0         \n",
            "_________________________________________________________________\n",
            "max_pooling2d_2 (MaxPooling2 (None, 10, 10, 256)       0         \n",
            "_________________________________________________________________\n",
            "flatten (Flatten)            (None, 25600)             0         \n",
            "_________________________________________________________________\n",
            "dropout (Dropout)            (None, 25600)             0         \n",
            "_________________________________________________________________\n",
            "dense (Dense)                (None, 64)                1638464   \n",
            "_________________________________________________________________\n",
            "dense_1 (Dense)              (None, 2)                 130       \n",
            "=================================================================\n",
            "Total params: 2,664,642\n",
            "Trainable params: 2,664,642\n",
            "Non-trainable params: 0\n",
            "_________________________________________________________________\n",
            "None\n"
          ],
          "name": "stdout"
        }
      ]
    },
    {
      "cell_type": "code",
      "metadata": {
        "colab": {
          "base_uri": "https://localhost:8080/"
        },
        "id": "gk68XKpGyi-6",
        "outputId": "b3cd250d-6f25-4ab0-fb34-a55f1c956902"
      },
      "source": [
        "#Train the model\n",
        "from keras.optimizers import Adam\n",
        "\n",
        "epochs=50\n",
        "\n",
        "model.compile(loss = 'categorical_crossentropy',\n",
        "              optimizer = Adam(lr=0.001),\n",
        "              metrics=['accuracy'])\n",
        "\n",
        "fitted_model=model.fit(train_x,train_y,epochs=epochs,validation_split=0.25)"
      ],
      "execution_count": 10,
      "outputs": [
        {
          "output_type": "stream",
          "text": [
            "Epoch 1/50\n",
            "25/25 [==============================] - 67s 3s/step - loss: 0.7342 - accuracy: 0.5285 - val_loss: 0.6435 - val_accuracy: 0.7946\n",
            "Epoch 2/50\n",
            "25/25 [==============================] - 65s 3s/step - loss: 0.6398 - accuracy: 0.6508 - val_loss: 0.4865 - val_accuracy: 0.7558\n",
            "Epoch 3/50\n",
            "25/25 [==============================] - 65s 3s/step - loss: 0.5056 - accuracy: 0.7611 - val_loss: 0.3454 - val_accuracy: 0.8721\n",
            "Epoch 4/50\n",
            "25/25 [==============================] - 65s 3s/step - loss: 0.3114 - accuracy: 0.8637 - val_loss: 0.2870 - val_accuracy: 0.8643\n",
            "Epoch 5/50\n",
            "25/25 [==============================] - 65s 3s/step - loss: 0.3163 - accuracy: 0.8643 - val_loss: 0.2196 - val_accuracy: 0.9109\n",
            "Epoch 6/50\n",
            "25/25 [==============================] - 65s 3s/step - loss: 0.1995 - accuracy: 0.9197 - val_loss: 0.2030 - val_accuracy: 0.9225\n",
            "Epoch 7/50\n",
            "25/25 [==============================] - 64s 3s/step - loss: 0.1791 - accuracy: 0.9358 - val_loss: 0.1563 - val_accuracy: 0.9225\n",
            "Epoch 8/50\n",
            "25/25 [==============================] - 64s 3s/step - loss: 0.1024 - accuracy: 0.9564 - val_loss: 0.1121 - val_accuracy: 0.9612\n",
            "Epoch 9/50\n",
            "25/25 [==============================] - 64s 3s/step - loss: 0.0896 - accuracy: 0.9741 - val_loss: 0.1163 - val_accuracy: 0.9612\n",
            "Epoch 10/50\n",
            "25/25 [==============================] - 64s 3s/step - loss: 0.0655 - accuracy: 0.9762 - val_loss: 0.1545 - val_accuracy: 0.9341\n",
            "Epoch 11/50\n",
            "25/25 [==============================] - 65s 3s/step - loss: 0.0633 - accuracy: 0.9732 - val_loss: 0.1766 - val_accuracy: 0.9380\n",
            "Epoch 12/50\n",
            "25/25 [==============================] - 65s 3s/step - loss: 0.0402 - accuracy: 0.9903 - val_loss: 0.1873 - val_accuracy: 0.9225\n",
            "Epoch 13/50\n",
            "25/25 [==============================] - 64s 3s/step - loss: 0.0454 - accuracy: 0.9828 - val_loss: 0.1695 - val_accuracy: 0.9574\n",
            "Epoch 14/50\n",
            "25/25 [==============================] - 64s 3s/step - loss: 0.0360 - accuracy: 0.9915 - val_loss: 0.1337 - val_accuracy: 0.9612\n",
            "Epoch 15/50\n",
            "25/25 [==============================] - 64s 3s/step - loss: 0.0293 - accuracy: 0.9947 - val_loss: 0.1164 - val_accuracy: 0.9651\n",
            "Epoch 16/50\n",
            "25/25 [==============================] - 64s 3s/step - loss: 0.0135 - accuracy: 0.9954 - val_loss: 0.1948 - val_accuracy: 0.9457\n",
            "Epoch 17/50\n",
            "25/25 [==============================] - 64s 3s/step - loss: 0.0204 - accuracy: 0.9934 - val_loss: 0.0906 - val_accuracy: 0.9767\n",
            "Epoch 18/50\n",
            "25/25 [==============================] - 65s 3s/step - loss: 0.0153 - accuracy: 0.9997 - val_loss: 0.1896 - val_accuracy: 0.9574\n",
            "Epoch 19/50\n",
            "25/25 [==============================] - 65s 3s/step - loss: 0.0200 - accuracy: 0.9953 - val_loss: 0.1221 - val_accuracy: 0.9574\n",
            "Epoch 20/50\n",
            "25/25 [==============================] - 65s 3s/step - loss: 0.0359 - accuracy: 0.9871 - val_loss: 0.1503 - val_accuracy: 0.9302\n",
            "Epoch 21/50\n",
            "25/25 [==============================] - 65s 3s/step - loss: 0.0208 - accuracy: 0.9925 - val_loss: 0.1044 - val_accuracy: 0.9690\n",
            "Epoch 22/50\n",
            "25/25 [==============================] - 65s 3s/step - loss: 0.0109 - accuracy: 0.9963 - val_loss: 0.1321 - val_accuracy: 0.9651\n",
            "Epoch 23/50\n",
            "25/25 [==============================] - 65s 3s/step - loss: 0.0252 - accuracy: 0.9916 - val_loss: 0.2832 - val_accuracy: 0.9457\n",
            "Epoch 24/50\n",
            "25/25 [==============================] - 65s 3s/step - loss: 0.0096 - accuracy: 0.9968 - val_loss: 0.2426 - val_accuracy: 0.9457\n",
            "Epoch 25/50\n",
            "25/25 [==============================] - 65s 3s/step - loss: 0.0038 - accuracy: 0.9997 - val_loss: 0.1541 - val_accuracy: 0.9380\n",
            "Epoch 26/50\n",
            "25/25 [==============================] - 64s 3s/step - loss: 0.0290 - accuracy: 0.9882 - val_loss: 0.1136 - val_accuracy: 0.9612\n",
            "Epoch 27/50\n",
            "25/25 [==============================] - 64s 3s/step - loss: 0.0053 - accuracy: 1.0000 - val_loss: 0.1429 - val_accuracy: 0.9651\n",
            "Epoch 28/50\n",
            "25/25 [==============================] - 64s 3s/step - loss: 0.0036 - accuracy: 0.9995 - val_loss: 0.4437 - val_accuracy: 0.9186\n",
            "Epoch 29/50\n",
            "25/25 [==============================] - 64s 3s/step - loss: 0.0345 - accuracy: 0.9884 - val_loss: 0.1725 - val_accuracy: 0.9574\n",
            "Epoch 30/50\n",
            "25/25 [==============================] - 64s 3s/step - loss: 0.0102 - accuracy: 0.9954 - val_loss: 0.1894 - val_accuracy: 0.9612\n",
            "Epoch 31/50\n",
            "25/25 [==============================] - 65s 3s/step - loss: 0.0278 - accuracy: 0.9923 - val_loss: 0.1757 - val_accuracy: 0.9457\n",
            "Epoch 32/50\n",
            "25/25 [==============================] - 64s 3s/step - loss: 0.0218 - accuracy: 0.9930 - val_loss: 0.1907 - val_accuracy: 0.9302\n",
            "Epoch 33/50\n",
            "25/25 [==============================] - 64s 3s/step - loss: 0.0345 - accuracy: 0.9919 - val_loss: 0.2219 - val_accuracy: 0.9496\n",
            "Epoch 34/50\n",
            "25/25 [==============================] - 65s 3s/step - loss: 0.0119 - accuracy: 0.9961 - val_loss: 0.4842 - val_accuracy: 0.9264\n",
            "Epoch 35/50\n",
            "25/25 [==============================] - 64s 3s/step - loss: 0.0272 - accuracy: 0.9881 - val_loss: 0.2046 - val_accuracy: 0.9496\n",
            "Epoch 36/50\n",
            "25/25 [==============================] - 64s 3s/step - loss: 0.0283 - accuracy: 0.9911 - val_loss: 0.1748 - val_accuracy: 0.9535\n",
            "Epoch 37/50\n",
            "25/25 [==============================] - 64s 3s/step - loss: 0.0602 - accuracy: 0.9886 - val_loss: 0.1417 - val_accuracy: 0.9380\n",
            "Epoch 38/50\n",
            "25/25 [==============================] - 64s 3s/step - loss: 0.0126 - accuracy: 0.9956 - val_loss: 0.1837 - val_accuracy: 0.9496\n",
            "Epoch 39/50\n",
            "25/25 [==============================] - 65s 3s/step - loss: 0.0016 - accuracy: 1.0000 - val_loss: 0.2318 - val_accuracy: 0.9457\n",
            "Epoch 40/50\n",
            "25/25 [==============================] - 64s 3s/step - loss: 0.0016 - accuracy: 1.0000 - val_loss: 0.2489 - val_accuracy: 0.9574\n",
            "Epoch 41/50\n",
            "25/25 [==============================] - 64s 3s/step - loss: 5.7108e-04 - accuracy: 1.0000 - val_loss: 0.2768 - val_accuracy: 0.9457\n",
            "Epoch 42/50\n",
            "25/25 [==============================] - 64s 3s/step - loss: 2.1178e-04 - accuracy: 1.0000 - val_loss: 0.3161 - val_accuracy: 0.9457\n",
            "Epoch 43/50\n",
            "25/25 [==============================] - 64s 3s/step - loss: 5.5988e-04 - accuracy: 1.0000 - val_loss: 0.3489 - val_accuracy: 0.9419\n",
            "Epoch 44/50\n",
            "25/25 [==============================] - 64s 3s/step - loss: 4.8179e-04 - accuracy: 1.0000 - val_loss: 0.2986 - val_accuracy: 0.9419\n",
            "Epoch 45/50\n",
            "25/25 [==============================] - 65s 3s/step - loss: 2.6906e-04 - accuracy: 1.0000 - val_loss: 0.2483 - val_accuracy: 0.9457\n",
            "Epoch 46/50\n",
            "25/25 [==============================] - 65s 3s/step - loss: 5.5425e-04 - accuracy: 1.0000 - val_loss: 0.3712 - val_accuracy: 0.9380\n",
            "Epoch 47/50\n",
            "25/25 [==============================] - 65s 3s/step - loss: 3.5976e-04 - accuracy: 1.0000 - val_loss: 0.2441 - val_accuracy: 0.9496\n",
            "Epoch 48/50\n",
            "25/25 [==============================] - 65s 3s/step - loss: 3.3961e-04 - accuracy: 1.0000 - val_loss: 0.3191 - val_accuracy: 0.9419\n",
            "Epoch 49/50\n",
            "25/25 [==============================] - 65s 3s/step - loss: 1.0681e-04 - accuracy: 1.0000 - val_loss: 0.2864 - val_accuracy: 0.9496\n",
            "Epoch 50/50\n",
            "25/25 [==============================] - 64s 3s/step - loss: 1.0787e-04 - accuracy: 1.0000 - val_loss: 0.2854 - val_accuracy: 0.9457\n"
          ],
          "name": "stdout"
        }
      ]
    },
    {
      "cell_type": "code",
      "metadata": {
        "colab": {
          "base_uri": "https://localhost:8080/",
          "height": 541
        },
        "id": "jiiAN30zym-6",
        "outputId": "0ec0290d-5b16-438d-bf87-b6e041e0537b"
      },
      "source": [
        "from matplotlib import pyplot as plt\n",
        "\n",
        "#Plot Training and Validation Loss\n",
        "plt.plot(fitted_model.history['loss'],'r',label='training loss')\n",
        "plt.plot(fitted_model.history['val_loss'],label='validation loss')\n",
        "plt.ylabel('Loss value')\n",
        "plt.xlabel('Number of epochs')\n",
        "plt.legend()\n",
        "plt.show()\n",
        "\n",
        "#Plot Training and Validation Loss\n",
        "plt.plot(fitted_model.history['accuracy'],'r',label='training accuracy')\n",
        "plt.plot(fitted_model.history['val_accuracy'],label='validation accuracy')\n",
        "plt.ylabel('Accuracy value')\n",
        "plt.xlabel('Number of epochs')\n",
        "plt.legend()\n",
        "plt.show()"
      ],
      "execution_count": 11,
      "outputs": [
        {
          "output_type": "display_data",
          "data": {
            "image/png": "[encoded data removed]",
            "text/plain": [
              "<Figure size 432x288 with 1 Axes>"
            ]
          },
          "metadata": {
            "tags": [],
            "needs_background": "light"
          }
        },
        {
          "output_type": "display_data",
          "data": {
            "image/png": "[encoded data removed]",
            "text/plain": [
              "<Figure size 432x288 with 1 Axes>"
            ]
          },
          "metadata": {
            "tags": [],
            "needs_background": "light"
          }
        }
      ]
    },
    {
      "cell_type": "code",
      "metadata": {
        "id": "k3hQv8vZyqyE"
      },
      "source": [
        "model.save('ds_project_SDD_256layer_5x5kernel.h5')"
      ],
      "execution_count": 12,
      "outputs": []
    },
    {
      "cell_type": "code",
      "metadata": {
        "id": "pmdNA4oGXGFa"
      },
      "source": [
        ""
      ],
      "execution_count": null,
      "outputs": []
    }
  ]
}